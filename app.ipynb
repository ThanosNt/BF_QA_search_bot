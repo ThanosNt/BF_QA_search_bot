{
 "cells": [
  {
   "cell_type": "code",
   "execution_count": null,
   "id": "34ac3ccd",
   "metadata": {
    "scrolled": true
   },
   "outputs": [
    {
     "name": "stderr",
     "output_type": "stream",
     "text": [
      "You try to use a model that was created with version 3.0.0.dev0, however, your version is 2.3.1. This might cause unexpected behavior or errors. In that case, try to update to the latest version.\n",
      "\n",
      "\n",
      "\n",
      "INFO:     Started server process [11392]\n",
      "INFO:     Waiting for application startup.\n",
      "INFO:     Application startup complete.\n",
      "INFO:     Uvicorn running on http://127.0.0.1:8000 (Press CTRL+C to quit)\n"
     ]
    },
    {
     "name": "stdout",
     "output_type": "stream",
     "text": [
      "INFO:     127.0.0.1:53732 - \"GET / HTTP/1.1\" 404 Not Found\n",
      "INFO:     127.0.0.1:53732 - \"GET /favicon.ico HTTP/1.1\" 404 Not Found\n",
      "INFO:     127.0.0.1:53804 - \"POST /search HTTP/1.1\" 200 OK\n",
      "INFO:     127.0.0.1:53842 - \"GET / HTTP/1.1\" 404 Not Found\n"
     ]
    }
   ],
   "source": [
    "import pandas as pd\n",
    "from fastapi import FastAPI\n",
    "from pydantic import BaseModel\n",
    "from sentence_transformers import SentenceTransformer\n",
    "from qdrant_client import QdrantClient\n",
    "from qdrant_client.http.models import PointStruct, VectorParams, Distance\n",
    "import uuid\n",
    "import asyncio\n",
    "import uvicorn\n",
    "\n",
    "app = FastAPI()\n",
    "\n",
    "client = QdrantClient(\"localhost\", port=6333)\n",
    "MODEL = SentenceTransformer(\"multi-qa-mpnet-base-dot-v1\")\n",
    "\n",
    "# Load data and create collection\n",
    "df = pd.read_csv('output_embeddings.csv')\n",
    "text_column_name = 'text'\n",
    "\n",
    "client.recreate_collection(\n",
    "    collection_name=\"similar_text\",\n",
    "    vectors_config=VectorParams(size=768, distance=Distance.COSINE),\n",
    ")\n",
    "\n",
    "for index, row in df.iterrows():\n",
    "    text = row[text_column_name]\n",
    "    text_embeddings = MODEL.encode(text).tolist()\n",
    "    id = str(uuid.uuid4())\n",
    "    payload = {\"text\": text, \"text_embeddings\": text_embeddings}\n",
    "    client.upsert(\n",
    "        collection_name=\"similar_text\",\n",
    "        wait=True,\n",
    "        points=[PointStruct(id=id, vector=text_embeddings, payload=payload)]\n",
    "    )\n",
    "\n",
    "class Query(BaseModel):\n",
    "    question: str\n",
    "\n",
    "@app.post(\"/search\")\n",
    "def search_similar_text(query: Query):\n",
    "    question_embeddings = MODEL.encode(query.question).tolist()\n",
    "    search_result = client.search(\n",
    "        collection_name=\"similar_text\",\n",
    "        query_vector=question_embeddings,\n",
    "        limit=3\n",
    "    )\n",
    "    results = [\n",
    "        {\"text\": result.payload[\"text\"], \"similarity_score\": result.score}\n",
    "        for result in search_result\n",
    "    ]\n",
    "    return results\n",
    "\n",
    "if __name__ == \"__main__\":\n",
    "    config = uvicorn.Config(app)\n",
    "    server = uvicorn.Server(config)\n",
    "    await server.serve()"
   ]
  },
  {
   "cell_type": "code",
   "execution_count": null,
   "id": "1135b216",
   "metadata": {},
   "outputs": [],
   "source": []
  }
 ],
 "metadata": {
  "kernelspec": {
   "display_name": "Python 3 (ipykernel)",
   "language": "python",
   "name": "python3"
  },
  "language_info": {
   "codemirror_mode": {
    "name": "ipython",
    "version": 3
   },
   "file_extension": ".py",
   "mimetype": "text/x-python",
   "name": "python",
   "nbconvert_exporter": "python",
   "pygments_lexer": "ipython3",
   "version": "3.11.5"
  }
 },
 "nbformat": 4,
 "nbformat_minor": 5
}
