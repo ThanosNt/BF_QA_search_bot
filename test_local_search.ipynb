{
 "cells": [
  {
   "cell_type": "code",
   "execution_count": 38,
   "id": "530e702a",
   "metadata": {
    "scrolled": true
   },
   "outputs": [
    {
     "name": "stdout",
     "output_type": "stream",
     "text": [
      "Input Question: can we trust chatgpt?\n",
      "\n",
      "Most Similar Text Index: 79\n",
      "Most Similar Text: Bug, Fault, Error, or Weakness: Demystifying Software Security Vulnerabilities -CONCLUSIONThe results from ChatGPT queries show we must rely on more than just AI to discern concepts. Underthe ChatGPT's hood lays a model that learns from all over the Internet, including misunderstandings. In parallel to the ancient Oracle of Delphi, the caller should be well prepared to provide the right questions and context; otherwise, the reasoning may be misleading and the result disastrous. Using our software security expertise to pose more and more tuned questions, thus providing more context, eventually we got ChatGPT to at least partially discern our own reasoning. The collective knowledge seems to approve the direction we are delving in via our BF research.\n",
      "Cosine Similarity Score: 0.3531416058540344\n"
     ]
    }
   ],
   "source": [
    "import pandas as pd\n",
    "import numpy as np\n",
    "from sklearn.metrics.pairwise import cosine_similarity\n",
    "from transformers import AutoTokenizer, AutoModel\n",
    "import torch\n",
    "from qdrant_client import QdrantClient\n",
    "from qdrant_client.http import models\n",
    "import requests\n",
    "import traceback\n",
    "\n",
    "\n",
    "# Step 1: Read embeddings from CSV file\n",
    "df = pd.read_csv('output_embeddings.csv') \n",
    "\n",
    "# Step 2: Load pre-trained tokenizer and model\n",
    "tokenizer = AutoTokenizer.from_pretrained(\"sentence-transformers/all-mpnet-base-v2\")\n",
    "model = AutoModel.from_pretrained(\"sentence-transformers/all-mpnet-base-v2\")\n",
    "\n",
    "# Step 3: Define function to get embeddings\n",
    "def get_embeddings(text):\n",
    "    # Tokenize input text\n",
    "    input_ids = tokenizer.encode(text, return_tensors=\"pt\", add_special_tokens=True)\n",
    "    # Generate embeddings\n",
    "    with torch.no_grad():\n",
    "        outputs = model(input_ids)\n",
    "    # Take the output embeddings from the last layer\n",
    "    embeddings = outputs.last_hidden_state.mean(dim=1).squeeze().numpy()\n",
    "    return embeddings\n",
    "\n",
    "# Step 4: Preprocess the input question and convert it into embeddings\n",
    "input_question = \"can we trust chatgpt?\"\n",
    "input_question_embeddings = get_embeddings(input_question)\n",
    "\n",
    "# Step 5: Calculate embeddings for each text entry in the DataFrame\n",
    "df['text_embeddings'] = df['text'].apply(get_embeddings)\n",
    "\n",
    "# Step 6: Calculate cosine similarity between the input question embeddings and each text entry embeddings\n",
    "cos_sim_scores = cosine_similarity([input_question_embeddings], list(df['text_embeddings']))\n",
    "\n",
    "# Step 7: Find the index of the most similar text entry based on cosine similarity\n",
    "most_similar_index = np.argmax(cos_sim_scores)\n",
    "\n",
    "# Step 8: Retrieve the most similar text and cosine similarity score\n",
    "most_similar_text = df.loc[most_similar_index, 'text']\n",
    "cosine_similarity_score = cos_sim_scores[0][most_similar_index]\n",
    "\n",
    "# Step 9: Print the results\n",
    "print(f\"Input Question: {input_question}\" \"\\n\")\n",
    "print(f\"Most Similar Text Index: {most_similar_index}\")\n",
    "print(f\"Most Similar Text: {most_similar_text}\")\n",
    "print(f\"Cosine Similarity Score: {cosine_similarity_score}\")\n"
   ]
  },
  {
   "cell_type": "code",
   "execution_count": 7,
   "id": "b76763a7",
   "metadata": {
    "scrolled": false
   },
   "outputs": [
    {
     "name": "stderr",
     "output_type": "stream",
     "text": [
      "You try to use a model that was created with version 3.0.0.dev0, however, your version is 2.3.1. This might cause unexpected behavior or errors. In that case, try to update to the latest version.\n",
      "\n",
      "\n",
      "\n"
     ]
    },
    {
     "name": "stdout",
     "output_type": "stream",
     "text": [
      "Data upload completed.\n"
     ]
    }
   ],
   "source": [
    "import pandas as pd\n",
    "from qdrant_client import QdrantClient\n",
    "from qdrant_client.http import models\n",
    "from sentence_transformers import SentenceTransformer\n",
    "import uuid\n",
    "import numpy as np\n",
    "\n",
    "client = QdrantClient(\"localhost\", port=6333)\n",
    "MODEL = SentenceTransformer(\"multi-qa-mpnet-base-dot-v1\")\n",
    "\n",
    "# Read CSV file into DataFrame\n",
    "df = pd.read_csv('output_embeddings.csv')\n",
    "\n",
    "# Specify the column containing text data\n",
    "text_column_name = 'text'\n",
    "\n",
    "# Create Qdrant collection\n",
    "client.recreate_collection(\n",
    "    collection_name=\"similar_text\",\n",
    "    vectors_config=models.VectorParams(size=768, distance=models.Distance.COSINE),\n",
    ")\n",
    "\n",
    "# Iterate over each row in the DataFrame\n",
    "for index, row in df.iterrows():\n",
    "    # Get text from the specified column\n",
    "    text = row[text_column_name]\n",
    "    \n",
    "    # Encode text using SentenceTransformer model\n",
    "    text_embeddings = MODEL.encode(text).tolist()\n",
    "    \n",
    "    # Generate unique ID for each row\n",
    "    id = str(uuid.uuid4())\n",
    "    \n",
    "    # Define payload\n",
    "    payload = {\"text\": text, \"text_embeddings\": text_embeddings}\n",
    "    \n",
    "    # Upsert data into Qdrant collection\n",
    "    client.upsert(\n",
    "        collection_name=\"similar_text\",\n",
    "        wait=True,\n",
    "        points=[\n",
    "            models.PointStruct(id=id, vector=text_embeddings, payload=payload)\n",
    "        ]\n",
    "    )\n",
    "\n",
    "print(\"Data upload completed.\")"
   ]
  },
  {
   "cell_type": "code",
   "execution_count": 7,
   "id": "4978b063",
   "metadata": {},
   "outputs": [
    {
     "name": "stderr",
     "output_type": "stream",
     "text": [
      "You try to use a model that was created with version 3.0.0.dev0, however, your version is 2.3.1. This might cause unexpected behavior or errors. In that case, try to update to the latest version.\n",
      "\n",
      "\n",
      "\n"
     ]
    },
    {
     "name": "stdout",
     "output_type": "stream",
     "text": [
      "Input Question: what is a vulnerability?\n",
      "\n",
      "Similar Texts and Their Similarity Scores:\n",
      "\n",
      "Result 1:\n",
      "Text: A DECADE OF REOCCURRING SOFTWARE WEAKNESSES- Cybersecurity vulnerabilities Weaknesses: Classifying vulnerabilitiesWhile we define a vulnerability in terms of a weakness, it is hard to define a weakness itself. As different vulnerabilities may be associated with the same weakness type, we could look at a weakness type as a class and a vulnerability as an instance of that class. Although it is uncommon, a single vulnerability could be associated with two or more weaknesses exploited sequentially or in parallel. In that sense, a vulnerability is a set with one or more instances of weaknesses.\n",
      "Similarity Score: 0.7220073\n",
      "\n",
      "Result 2:\n",
      "Text: A DECADE OF REOCCURRING SOFTWARE WEAKNESSES- Cybersecurity vulnerabilitiesWe can define a vulnerability as a weakness, in the security of a system, that can be exploited. The Common Vulnerabilities and Exposures (CVE) is a large set of publicly disclosed vulnerabilities in widely-used software. They are enumerated with a unique identifier, described, and referenced with external advisories.\n",
      "Similarity Score: 0.6995222\n",
      "\n",
      "Result 3:\n",
      "Text: Bug, Fault, Error, or Weakness: Demystifying Software Security Vulnerabilities -DEFINITIONSA software security vulnerability is a chain of weaknesses linked by causality. It starts with a bug and ends with a final error, which if exploited leads to a security failure.\n",
      "Similarity Score: 0.6760113\n",
      "\n"
     ]
    }
   ],
   "source": [
    "import pandas as pd\n",
    "from qdrant_client import QdrantClient\n",
    "from qdrant_client.http import models\n",
    "from sentence_transformers import SentenceTransformer\n",
    "import uuid\n",
    "import numpy as np\n",
    "\n",
    "client = QdrantClient(\"localhost\", port=6333)\n",
    "MODEL = SentenceTransformer(\"multi-qa-mpnet-base-dot-v1\")\n",
    "\n",
    "# Function to get embeddings for a question\n",
    "def get_question_embeddings(question):\n",
    "    question = question\n",
    "    return MODEL.encode(question).tolist()\n",
    "\n",
    "# Function to perform similarity search\n",
    "def search_similar_text(question, collection_name=\"similar_text\", limit=3):\n",
    "    question_embeddings = get_question_embeddings(question)\n",
    "    \n",
    "    search_result = client.search(\n",
    "        collection_name=collection_name,\n",
    "        query_vector=question_embeddings,\n",
    "        limit=limit  # Adjust the number of results to retrieve\n",
    "    )\n",
    "    \n",
    "    return search_result\n",
    "\n",
    "# Ask a question \n",
    "question = \"what is a vulnerability?\"\n",
    "similar_texts = search_similar_text(question)\n",
    "\n",
    "# Print the results with clear formatting\n",
    "print(f\"Input Question: {question}\\n\")\n",
    "print(\"Similar Texts and Their Similarity Scores:\\n\")\n",
    "\n",
    "for idx, result in enumerate(similar_texts):\n",
    "    similar_text = result.payload[\"text\"]\n",
    "    similarity_score = result.score\n",
    "    print(f\"Result {idx + 1}:\")\n",
    "    print(f\"Text: {similar_text}\")\n",
    "    print(f\"Similarity Score: {similarity_score}\"\"\\n\")"
   ]
  },
  {
   "cell_type": "code",
   "execution_count": null,
   "id": "2e325f3f",
   "metadata": {},
   "outputs": [],
   "source": [
    "# Close the client connection\n",
    "client.close()"
   ]
  }
 ],
 "metadata": {
  "kernelspec": {
   "display_name": "Python 3 (ipykernel)",
   "language": "python",
   "name": "python3"
  },
  "language_info": {
   "codemirror_mode": {
    "name": "ipython",
    "version": 3
   },
   "file_extension": ".py",
   "mimetype": "text/x-python",
   "name": "python",
   "nbconvert_exporter": "python",
   "pygments_lexer": "ipython3",
   "version": "3.11.5"
  }
 },
 "nbformat": 4,
 "nbformat_minor": 5
}
