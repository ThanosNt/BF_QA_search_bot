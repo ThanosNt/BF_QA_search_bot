{
 "cells": [
  {
   "cell_type": "code",
   "execution_count": 2,
   "id": "0650df00",
   "metadata": {},
   "outputs": [],
   "source": [
    "import pandas as pd\n",
    "import numpy as np\n",
    "from sklearn.metrics.pairwise import cosine_similarity\n",
    "from sklearn.feature_extraction.text import CountVectorizer\n",
    "\n",
    "df = pd.read_csv('cleaned_db_text.csv')"
   ]
  },
  {
   "cell_type": "code",
   "execution_count": 3,
   "id": "015dd621",
   "metadata": {},
   "outputs": [
    {
     "name": "stdout",
     "output_type": "stream",
     "text": [
      "Input Question: what is the BF\n",
      "Most Similar Text Index: 318\n",
      "Most Similar Text: Heartbleed Revisited: Is it just a Buffer Over-Read -BF DESCRIPTION OF HEARTBLEEDNext is the Memory Addressing (MAD) weakness, represented by the (Wrong Size, Reposition, Over Bounds Pointer) causeoperation-consequence triple. The wrong size data fault at repositioning leads to a pointer pointing overbounds address error. The Mechanism attribute here shows how the repositioning is done - it is sequential, iterating over the buffer elements. The Address State attribute shows where the buffer is laid out - it is dynamically allocated in the heap. The Size Kind attribute shows what the limit for iteration over object's elements is - it is a requested value.\n"
     ]
    }
   ],
   "source": [
    "def preprocess_sample(text):\n",
    "    text = text.replace(\"\\n\", \"\")\n",
    "    text = text.replace(\"\\x91\", \"'\")\n",
    "    text = text.replace(\"\\x92\", \"'\")\n",
    "    text = text.replace(\"\\x93\", \"\\\"\")\n",
    "    text = text.replace(\"\\x94\", \"\\\"\")\n",
    "    text = text.replace(\"\\x96\", \"-\")\n",
    "    text = text.replace(\"\\x97\", \"-\")\n",
    "    return text\n",
    "\n",
    "# Preprocess the input question\n",
    "input_question = \"what is the BF\"\n",
    "input_question = preprocess_sample(input_question)\n",
    "\n",
    "# Preprocess all text in the DataFrame\n",
    "df['text'] = df['text'].apply(preprocess_sample)\n",
    "\n",
    "# Create tuples of (index, text) for each row in the DataFrame\n",
    "text_tuples = list(zip(df.index, df['text']))\n",
    "\n",
    "# Tokenize and vectorize the text data\n",
    "vectorizer = CountVectorizer()\n",
    "text_matrix = vectorizer.fit_transform(df['text'])\n",
    "\n",
    "# Tokenize and vectorize the input question\n",
    "input_question_vector = vectorizer.transform([input_question])\n",
    "\n",
    "# Calculate cosine similarity\n",
    "similarity_scores = cosine_similarity(input_question_vector, text_matrix)\n",
    "\n",
    "# Find the most similar index based on cosine similarity using tuples\n",
    "most_similar_tuple_index = similarity_scores.argmax()\n",
    "most_similar_text_tuple = text_tuples[most_similar_tuple_index]\n",
    "\n",
    "print(f\"Input Question: {input_question}\")\n",
    "print(f\"Most Similar Text Index: {most_similar_text_tuple[0]}\")\n",
    "print(f\"Most Similar Text: {most_similar_text_tuple[1]}\")"
   ]
  },
  {
   "cell_type": "code",
   "execution_count": null,
   "id": "78026e60",
   "metadata": {},
   "outputs": [],
   "source": []
  }
 ],
 "metadata": {
  "kernelspec": {
   "display_name": "Python 3 (ipykernel)",
   "language": "python",
   "name": "python3"
  },
  "language_info": {
   "codemirror_mode": {
    "name": "ipython",
    "version": 3
   },
   "file_extension": ".py",
   "mimetype": "text/x-python",
   "name": "python",
   "nbconvert_exporter": "python",
   "pygments_lexer": "ipython3",
   "version": "3.11.5"
  }
 },
 "nbformat": 4,
 "nbformat_minor": 5
}
