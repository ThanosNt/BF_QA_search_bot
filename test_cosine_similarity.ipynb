{
 "cells": [
  {
   "cell_type": "code",
   "execution_count": 1,
   "id": "0650df00",
   "metadata": {},
   "outputs": [],
   "source": [
    "import pandas as pd\n",
    "import numpy as np\n",
    "from sklearn.metrics.pairwise import cosine_similarity\n",
    "from sklearn.feature_extraction.text import CountVectorizer\n",
    "\n",
    "df = pd.read_csv('cleaned_db_text.csv')"
   ]
  },
  {
   "cell_type": "code",
   "execution_count": 5,
   "id": "015dd621",
   "metadata": {},
   "outputs": [
    {
     "name": "stdout",
     "output_type": "stream",
     "text": [
      "Input Question: What is a software vulnerability?\n",
      "Most Similar Text Index: 48\n",
      "Most Similar Text: Bug, Fault, Error, or Weakness: Demystifying Software Security Vulnerabilities -DEFINITIONSWe can observe that a security vulnerability leads to a security failure. However, what are the buildingblocks of a vulnerability? What is the defect in software that triggers a vulnerability? How does it propagate through errors until a final, exploitable error is reached? How do the underlying weaknesses of a vulnerability relate to these propagating errors?\n",
      "Similarity Score: 0.4975\n"
     ]
    }
   ],
   "source": [
    "def preprocess_sample(text):\n",
    "    text = text.replace(\"\\n\", \"\")\n",
    "    text = text.replace(\"\\x91\", \"'\")\n",
    "    text = text.replace(\"\\x92\", \"'\")\n",
    "    text = text.replace(\"\\x93\", \"\\\"\")\n",
    "    text = text.replace(\"\\x94\", \"\\\"\")\n",
    "    text = text.replace(\"\\x96\", \"-\")\n",
    "    text = text.replace(\"\\x97\", \"-\")\n",
    "    return text\n",
    "\n",
    "# Preprocess the input question\n",
    "input_question = \"What is a software vulnerability?\"\n",
    "input_question = preprocess_sample(input_question)\n",
    "\n",
    "# Preprocess all text in the DataFrame\n",
    "df['text'] = df['text'].apply(preprocess_sample)\n",
    "\n",
    "# Create tuples of (index, text) for each row in the DataFrame\n",
    "text_tuples = list(zip(df.index, df['text']))\n",
    "\n",
    "# Tokenize and vectorize the text data\n",
    "vectorizer = CountVectorizer()\n",
    "text_matrix = vectorizer.fit_transform(df['text'])\n",
    "\n",
    "# Tokenize and vectorize the input question\n",
    "input_question_vector = vectorizer.transform([input_question])\n",
    "\n",
    "# Calculate cosine similarity\n",
    "similarity_scores = cosine_similarity(input_question_vector, text_matrix)\n",
    "\n",
    "# Find the most similar index based on cosine similarity using tuples\n",
    "most_similar_tuple_index = similarity_scores.argmax()\n",
    "most_similar_text_tuple = text_tuples[most_similar_tuple_index]\n",
    "most_similar_score = similarity_scores[0, most_similar_tuple_index]\n",
    "\n",
    "print(f\"Input Question: {input_question}\")\n",
    "print(f\"Most Similar Text Index: {most_similar_text_tuple[0]}\")\n",
    "print(f\"Most Similar Text: {most_similar_text_tuple[1]}\")\n",
    "print(f\"Similarity Score: {most_similar_score:.4f}\")"
   ]
  },
  {
   "cell_type": "code",
   "execution_count": null,
   "id": "78026e60",
   "metadata": {},
   "outputs": [],
   "source": []
  }
 ],
 "metadata": {
  "kernelspec": {
   "display_name": "Python 3 (ipykernel)",
   "language": "python",
   "name": "python3"
  },
  "language_info": {
   "codemirror_mode": {
    "name": "ipython",
    "version": 3
   },
   "file_extension": ".py",
   "mimetype": "text/x-python",
   "name": "python",
   "nbconvert_exporter": "python",
   "pygments_lexer": "ipython3",
   "version": "3.11.5"
  }
 },
 "nbformat": 4,
 "nbformat_minor": 5
}
