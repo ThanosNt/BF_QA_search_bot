{
 "cells": [
  {
   "cell_type": "code",
   "execution_count": 1,
   "id": "ebc0bcaf",
   "metadata": {},
   "outputs": [],
   "source": [
    "import os\n",
    "import pandas as pd"
   ]
  },
  {
   "cell_type": "code",
   "execution_count": 2,
   "id": "471fb358",
   "metadata": {},
   "outputs": [],
   "source": [
    "files = os.listdir()"
   ]
  },
  {
   "cell_type": "code",
   "execution_count": 3,
   "id": "d311dbca",
   "metadata": {},
   "outputs": [
    {
     "name": "stdout",
     "output_type": "stream",
     "text": [
      "['A_DECADE_OF_REOCCURRING_SOFTWARE_WEAKNESSES.csv', 'Bug_Fault_Error_or_Weakness_Demystifying_Software_Security_Vulnerabilities.csv', 'Classifying_Memory_Bugs.csv', 'Critical_Software_Security_Weaknesses.csv', 'Data_Type_Bugs_Taxonomy.csv', 'Heartbleed_Revisited_Is_it_just_a_Buffer_Over_Read.csv', 'Input_Output_Check_Bugs_Taxonomy_Injection_Errors_in_Spotlight.csv', 'Labeling_Software_Security_Vulnerabilities.csv']\n"
     ]
    }
   ],
   "source": [
    "cleaned_files = []\n",
    "for file_name in files:\n",
    "    if \"csv\" in file_name:\n",
    "        cleaned_files.append(file_name)\n",
    "        \n",
    "print(cleaned_files)"
   ]
  },
  {
   "cell_type": "code",
   "execution_count": 4,
   "id": "468f2c79",
   "metadata": {},
   "outputs": [
    {
     "name": "stdout",
     "output_type": "stream",
     "text": [
      "43\n",
      "37\n",
      "64\n",
      "35\n",
      "118\n",
      "38\n",
      "84\n",
      "30\n",
      "449\n"
     ]
    }
   ],
   "source": [
    "all_text = []\n",
    "for csv in cleaned_files:\n",
    "    csv_df = pd.read_csv(csv, \n",
    "                       encoding='unicode_escape',\n",
    "                      names=[\"text\"])\n",
    "    print(len(list(csv_df[\"text\"])))\n",
    "    \n",
    "    all_text = all_text+list(csv_df[\"text\"])\n",
    "    \n",
    "print(len(all_text))"
   ]
  },
  {
   "cell_type": "code",
   "execution_count": 5,
   "id": "deff67f0",
   "metadata": {},
   "outputs": [],
   "source": [
    "def preprocess_sample(text):\n",
    "    text = text.replace(\"\\n\", \"\")\n",
    "    text = text.replace(\"\\x91\",\"'\")\n",
    "    text = text.replace(\"\\x92\",\"'\")\n",
    "    text = text.replace(\"\\x93\",\"\\\"\")\n",
    "    text = text.replace(\"\\x94\",\"\\\"\")\n",
    "    text = text.replace(\"\\x96\",\"-\")\n",
    "    text = text.replace(\"\\x97\",\"-\")\n",
    "    return text"
   ]
  },
  {
   "cell_type": "code",
   "execution_count": 6,
   "id": "70b40754",
   "metadata": {},
   "outputs": [],
   "source": [
    "preprocessed_texts = []\n",
    "for text in all_text:\n",
    "    clean_text = preprocess_sample(text)\n",
    "    preprocessed_texts.append(clean_text)"
   ]
  },
  {
   "cell_type": "code",
   "execution_count": 7,
   "id": "9dbf08fb",
   "metadata": {},
   "outputs": [],
   "source": [
    "dataset_df = pd.DataFrame()"
   ]
  },
  {
   "cell_type": "code",
   "execution_count": 8,
   "id": "588579fd",
   "metadata": {},
   "outputs": [],
   "source": [
    "dataset_df[\"text\"] = preprocessed_texts"
   ]
  },
  {
   "cell_type": "code",
   "execution_count": 9,
   "id": "1714fcf4",
   "metadata": {
    "scrolled": true
   },
   "outputs": [],
   "source": [
    "dataset_df.to_csv(\"cleaned_db_text.csv\", index=False)"
   ]
  },
  {
   "cell_type": "code",
   "execution_count": 10,
   "id": "5561f639",
   "metadata": {
    "scrolled": false
   },
   "outputs": [
    {
     "data": {
      "text/plain": []
     },
     "execution_count": 10,
     "metadata": {},
     "output_type": "execute_result"
    }
   ],
   "source": [
    "preprocessed_texts"
   ]
  },
  {
   "cell_type": "code",
   "execution_count": null,
   "id": "9a5ae0b9",
   "metadata": {},
   "outputs": [],
   "source": []
  }
 ],
 "metadata": {
  "kernelspec": {
   "display_name": "Python 3 (ipykernel)",
   "language": "python",
   "name": "python3"
  },
  "language_info": {
   "codemirror_mode": {
    "name": "ipython",
    "version": 3
   },
   "file_extension": ".py",
   "mimetype": "text/x-python",
   "name": "python",
   "nbconvert_exporter": "python",
   "pygments_lexer": "ipython3",
   "version": "3.11.5"
  }
 },
 "nbformat": 4,
 "nbformat_minor": 5
}
